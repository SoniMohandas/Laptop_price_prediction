{
 "cells": [
  {
   "cell_type": "code",
   "execution_count": 31,
   "metadata": {},
   "outputs": [],
   "source": [
    "import pandas as pd\n",
    "import numpy as np"
   ]
  },
  {
   "cell_type": "code",
   "execution_count": 32,
   "metadata": {},
   "outputs": [
    {
     "data": {
      "text/html": [
       "<div>\n",
       "<style scoped>\n",
       "    .dataframe tbody tr th:only-of-type {\n",
       "        vertical-align: middle;\n",
       "    }\n",
       "\n",
       "    .dataframe tbody tr th {\n",
       "        vertical-align: top;\n",
       "    }\n",
       "\n",
       "    .dataframe thead th {\n",
       "        text-align: right;\n",
       "    }\n",
       "</style>\n",
       "<table border=\"1\" class=\"dataframe\">\n",
       "  <thead>\n",
       "    <tr style=\"text-align: right;\">\n",
       "      <th></th>\n",
       "      <th>graphic card type</th>\n",
       "      <th>communications</th>\n",
       "      <th>resolution (px)</th>\n",
       "      <th>CPU cores</th>\n",
       "      <th>RAM size</th>\n",
       "      <th>operating system</th>\n",
       "      <th>drive type</th>\n",
       "      <th>input devices</th>\n",
       "      <th>multimedia</th>\n",
       "      <th>RAM type</th>\n",
       "      <th>CPU clock speed (GHz)</th>\n",
       "      <th>CPU model</th>\n",
       "      <th>state</th>\n",
       "      <th>drive memory size (GB)</th>\n",
       "      <th>warranty</th>\n",
       "      <th>screen size</th>\n",
       "      <th>buynow_price</th>\n",
       "    </tr>\n",
       "  </thead>\n",
       "  <tbody>\n",
       "    <tr>\n",
       "      <th>7233</th>\n",
       "      <td>dedicated graphics</td>\n",
       "      <td>[bluetooth, lan 10/100/1000 mbps]</td>\n",
       "      <td>1920 x 1080</td>\n",
       "      <td>4</td>\n",
       "      <td>32 gb</td>\n",
       "      <td>[no system]</td>\n",
       "      <td>ssd + hdd</td>\n",
       "      <td>[keyboard, touchpad, illuminated keyboard, num...</td>\n",
       "      <td>[SD card reader, camera, speakers, microphone]</td>\n",
       "      <td>ddr4</td>\n",
       "      <td>2.6</td>\n",
       "      <td>intel core i7</td>\n",
       "      <td>new</td>\n",
       "      <td>1250.0</td>\n",
       "      <td>producer warranty</td>\n",
       "      <td>17\" - 17.9\"</td>\n",
       "      <td>4999.0</td>\n",
       "    </tr>\n",
       "    <tr>\n",
       "      <th>5845</th>\n",
       "      <td>dedicated graphics</td>\n",
       "      <td>[wi-fi, bluetooth, lan 10/100 mbps]</td>\n",
       "      <td>1366 x 768</td>\n",
       "      <td>4</td>\n",
       "      <td>8 gb</td>\n",
       "      <td>[windows 10 home]</td>\n",
       "      <td>ssd</td>\n",
       "      <td>[keyboard, touchpad, numeric keyboard]</td>\n",
       "      <td>[SD card reader, camera, speakers, microphone]</td>\n",
       "      <td>ddr3</td>\n",
       "      <td>2.4</td>\n",
       "      <td>intel core i7</td>\n",
       "      <td>new</td>\n",
       "      <td>256.0</td>\n",
       "      <td>seller warranty</td>\n",
       "      <td>15\" - 15.9\"</td>\n",
       "      <td>2649.0</td>\n",
       "    </tr>\n",
       "    <tr>\n",
       "      <th>10303</th>\n",
       "      <td>None</td>\n",
       "      <td>[bluetooth, nfc (near field communication)]</td>\n",
       "      <td>1920 x 1080</td>\n",
       "      <td>2</td>\n",
       "      <td>8 gb</td>\n",
       "      <td>[windows 10 home]</td>\n",
       "      <td>hdd</td>\n",
       "      <td>None</td>\n",
       "      <td>[SD card reader]</td>\n",
       "      <td>ddr4</td>\n",
       "      <td>1.6</td>\n",
       "      <td>intel core i7</td>\n",
       "      <td>new</td>\n",
       "      <td>1000.0</td>\n",
       "      <td>producer warranty</td>\n",
       "      <td>15\" - 15.9\"</td>\n",
       "      <td>3399.0</td>\n",
       "    </tr>\n",
       "    <tr>\n",
       "      <th>10423</th>\n",
       "      <td>None</td>\n",
       "      <td>None</td>\n",
       "      <td>None</td>\n",
       "      <td>2</td>\n",
       "      <td>None</td>\n",
       "      <td>None</td>\n",
       "      <td>None</td>\n",
       "      <td>None</td>\n",
       "      <td>None</td>\n",
       "      <td>None</td>\n",
       "      <td>NaN</td>\n",
       "      <td>None</td>\n",
       "      <td>new</td>\n",
       "      <td>NaN</td>\n",
       "      <td>producer warranty</td>\n",
       "      <td>None</td>\n",
       "      <td>1599.0</td>\n",
       "    </tr>\n",
       "    <tr>\n",
       "      <th>5897</th>\n",
       "      <td>integrated graphics</td>\n",
       "      <td>[wi-fi, bluetooth]</td>\n",
       "      <td>2560 x 1440</td>\n",
       "      <td>4</td>\n",
       "      <td>8 gb</td>\n",
       "      <td>[windows 10 home]</td>\n",
       "      <td>ssd</td>\n",
       "      <td>[keyboard, touchpad, illuminated keyboard]</td>\n",
       "      <td>[SD card reader, camera, speakers, microphone]</td>\n",
       "      <td>ddr4</td>\n",
       "      <td>1.2</td>\n",
       "      <td>other CPU</td>\n",
       "      <td>new</td>\n",
       "      <td>256.0</td>\n",
       "      <td>producer warranty</td>\n",
       "      <td>12\" - 12.9\"</td>\n",
       "      <td>4499.0</td>\n",
       "    </tr>\n",
       "  </tbody>\n",
       "</table>\n",
       "</div>"
      ],
      "text/plain": [
       "         graphic card type                               communications  \\\n",
       "7233    dedicated graphics            [bluetooth, lan 10/100/1000 mbps]   \n",
       "5845    dedicated graphics          [wi-fi, bluetooth, lan 10/100 mbps]   \n",
       "10303                 None  [bluetooth, nfc (near field communication)]   \n",
       "10423                 None                                         None   \n",
       "5897   integrated graphics                           [wi-fi, bluetooth]   \n",
       "\n",
       "      resolution (px) CPU cores RAM size   operating system drive type  \\\n",
       "7233      1920 x 1080         4    32 gb        [no system]  ssd + hdd   \n",
       "5845       1366 x 768         4     8 gb  [windows 10 home]        ssd   \n",
       "10303     1920 x 1080         2     8 gb  [windows 10 home]        hdd   \n",
       "10423            None         2     None               None       None   \n",
       "5897      2560 x 1440         4     8 gb  [windows 10 home]        ssd   \n",
       "\n",
       "                                           input devices  \\\n",
       "7233   [keyboard, touchpad, illuminated keyboard, num...   \n",
       "5845              [keyboard, touchpad, numeric keyboard]   \n",
       "10303                                               None   \n",
       "10423                                               None   \n",
       "5897          [keyboard, touchpad, illuminated keyboard]   \n",
       "\n",
       "                                           multimedia RAM type  \\\n",
       "7233   [SD card reader, camera, speakers, microphone]     ddr4   \n",
       "5845   [SD card reader, camera, speakers, microphone]     ddr3   \n",
       "10303                                [SD card reader]     ddr4   \n",
       "10423                                            None     None   \n",
       "5897   [SD card reader, camera, speakers, microphone]     ddr4   \n",
       "\n",
       "       CPU clock speed (GHz)      CPU model state  drive memory size (GB)  \\\n",
       "7233                     2.6  intel core i7   new                  1250.0   \n",
       "5845                     2.4  intel core i7   new                   256.0   \n",
       "10303                    1.6  intel core i7   new                  1000.0   \n",
       "10423                    NaN           None   new                     NaN   \n",
       "5897                     1.2      other CPU   new                   256.0   \n",
       "\n",
       "                warranty  screen size  buynow_price  \n",
       "7233   producer warranty  17\" - 17.9\"        4999.0  \n",
       "5845     seller warranty  15\" - 15.9\"        2649.0  \n",
       "10303  producer warranty  15\" - 15.9\"        3399.0  \n",
       "10423  producer warranty         None        1599.0  \n",
       "5897   producer warranty  12\" - 12.9\"        4499.0  "
      ]
     },
     "execution_count": 32,
     "metadata": {},
     "output_type": "execute_result"
    }
   ],
   "source": [
    "# Convert json files to dataframes\n",
    "train = pd.read_json(\"datasets/train_dataset.json\")\n",
    "test = pd.read_json(\"datasets/test_dataset.json\")\n",
    "val = pd.read_json(\"datasets/val_dataset.json\")\n",
    "train_indices=train.index\n",
    "test_indices=test.index\n",
    "val_indices = val.index\n",
    "data = pd.concat([train, test, val], axis=0)\n",
    "train.head()"
   ]
  },
  {
   "cell_type": "code",
   "execution_count": 33,
   "metadata": {},
   "outputs": [
    {
     "data": {
      "text/plain": [
       "Index(['graphic_card_type', 'communications', 'resolution_(px)', 'CPU_cores',\n",
       "       'RAM_size', 'operating_system', 'drive_type', 'input_devices',\n",
       "       'multimedia', 'RAM_type', 'CPU_clock_speed_(GHz)', 'CPU_model', 'state',\n",
       "       'drive_memory_size_(GB)', 'warranty', 'screen_size', 'buynow_price'],\n",
       "      dtype='object')"
      ]
     },
     "execution_count": 33,
     "metadata": {},
     "output_type": "execute_result"
    }
   ],
   "source": [
    "# Replace columns name spaces with '_'\n",
    "data.columns=data.columns.str.replace(' ', '_')\n",
    "data.columns"
   ]
  },
  {
   "cell_type": "code",
   "execution_count": 34,
   "metadata": {},
   "outputs": [
    {
     "data": {
      "text/plain": [
       "graphic_card_type         496\n",
       "communications            782\n",
       "resolution_(px)           608\n",
       "CPU_cores                   0\n",
       "RAM_size                  450\n",
       "operating_system          650\n",
       "drive_type                435\n",
       "input_devices             678\n",
       "multimedia                708\n",
       "RAM_type                  864\n",
       "CPU_clock_speed_(GHz)     936\n",
       "CPU_model                 533\n",
       "state                       0\n",
       "drive_memory_size_(GB)    481\n",
       "warranty                    0\n",
       "screen_size               346\n",
       "buynow_price                0\n",
       "dtype: int64"
      ]
     },
     "execution_count": 34,
     "metadata": {},
     "output_type": "execute_result"
    }
   ],
   "source": [
    "# Check for null values\n",
    "data.isna().sum()"
   ]
  },
  {
   "cell_type": "code",
   "execution_count": 35,
   "metadata": {},
   "outputs": [],
   "source": [
    "# Change graphic card type to values\n",
    "data.graphic_card_type = data.graphic_card_type.replace(to_replace=['dedicated graphics','integrated graphics'], \n",
    "                                                           value=[0,1])"
   ]
  },
  {
   "cell_type": "code",
   "execution_count": 36,
   "metadata": {},
   "outputs": [],
   "source": [
    "import re\n",
    "# Change communication strings to values\n",
    "data.communications=data.communications.str.join('').map({'bluetoothlan 10/100/1000 mbps':1,\n",
    "                                                         'wi-fibluetoothlan 10/100 mbps':2,\n",
    "                                                         'bluetoothnfc (near field communication)':3,\n",
    "                                                         'wi-fibluetooth':4,\n",
    "                                                         'bluetoothlan 10/100 mbps':5,\n",
    "                                                         'bluetoothlan 10/100/1000 mbpslan 10/100 mbpsin...':6,\n",
    "                                                         })"
   ]
  },
  {
   "cell_type": "code",
   "execution_count": 37,
   "metadata": {},
   "outputs": [
    {
     "data": {
      "text/plain": [
       "7233     1.0\n",
       "5845     2.0\n",
       "10303    3.0\n",
       "10423    NaN\n",
       "5897     4.0\n",
       "        ... \n",
       "4433     NaN\n",
       "9242     NaN\n",
       "3982     5.0\n",
       "9673     NaN\n",
       "4277     5.0\n",
       "Name: communications, Length: 7853, dtype: float64"
      ]
     },
     "execution_count": 37,
     "metadata": {},
     "output_type": "execute_result"
    }
   ],
   "source": [
    "data.communications"
   ]
  },
  {
   "cell_type": "code",
   "execution_count": 38,
   "metadata": {},
   "outputs": [],
   "source": [
    "# Change operating system strings to values\n",
    "data.operating_system= data.operating_system.str.join('').map({'no system':0, 'windows 10 home':1})"
   ]
  },
  {
   "cell_type": "code",
   "execution_count": 39,
   "metadata": {},
   "outputs": [],
   "source": [
    "# Change drive type values\n",
    "data.drive_type=data.drive_type.map({'ssd + hdd':2, 'hdd':1, 'ssd':0})\n"
   ]
  },
  {
   "cell_type": "code",
   "execution_count": 40,
   "metadata": {},
   "outputs": [
    {
     "data": {
      "text/plain": [
       "7233     keyboardtouchpadilluminated keyboardnumeric ke...\n",
       "5845                      keyboardtouchpadnumeric keyboard\n",
       "10303                                                 None\n",
       "10423                                                 None\n",
       "5897                  keyboardtouchpadilluminated keyboard\n",
       "                               ...                        \n",
       "4433                                      keyboardtouchpad\n",
       "9242                                                  None\n",
       "3982                                      keyboardtouchpad\n",
       "9673                  keyboardtouchpadilluminated keyboard\n",
       "4277                  keyboardtouchpadilluminated keyboard\n",
       "Name: input_devices, Length: 7853, dtype: object"
      ]
     },
     "execution_count": 40,
     "metadata": {},
     "output_type": "execute_result"
    }
   ],
   "source": [
    "data.input_devices.str.join('')"
   ]
  },
  {
   "cell_type": "code",
   "execution_count": 41,
   "metadata": {},
   "outputs": [],
   "source": [
    "# Change input_devices to its values\n",
    "data.input_devices=data.input_devices.str.join('').map({'keyboardtouchpadilluminated keyboardnumeric keyboard':3,\n",
    "                                                        'keyboardtouchpadilluminated keyboard':4,\n",
    "                                                       'keyboardtouchpadnumeric keyboard':2,\n",
    "                                                       'keyboardtouchpad':1})"
   ]
  },
  {
   "cell_type": "code",
   "execution_count": 42,
   "metadata": {},
   "outputs": [],
   "source": [
    "# Change multimedia to its values\n",
    "data.multimedia=data.multimedia.str.join('').map({'SD card readercameraspeakersmicrophone':2,\n",
    "                                 'SD card readercameramicrophone':1,'SD card reader':0})"
   ]
  },
  {
   "cell_type": "code",
   "execution_count": 43,
   "metadata": {},
   "outputs": [],
   "source": [
    "# Change CPU model to its values\n",
    "data.CPU_model=data.CPU_model.map({'intel core i7':2,'intel core i5':1, 'other CPU':0})"
   ]
  },
  {
   "cell_type": "code",
   "execution_count": 44,
   "metadata": {},
   "outputs": [],
   "source": [
    "# Change warranty to 0 or 1\n",
    "data.warranty=data.warranty.map({'producer warranty':1, 'seller warranty':0})"
   ]
  },
  {
   "cell_type": "code",
   "execution_count": 45,
   "metadata": {},
   "outputs": [],
   "source": [
    "# Select highest value screen size \n",
    "data.screen_size= data.screen_size.str.join('').map({'17\" - 17.9\"':17.9, '15\" - 15.9\"':15.9,\n",
    "                                                     '13\" - 13.9\"':13.9,'12\" - 12.9\"':12.9})"
   ]
  },
  {
   "cell_type": "code",
   "execution_count": 46,
   "metadata": {},
   "outputs": [],
   "source": [
    "# Change RAM type to values\n",
    "data.RAM_type=data.RAM_type.map({'ddr4':2,'ddr3':1, 'ddr3l':0})"
   ]
  },
  {
   "cell_type": "code",
   "execution_count": 47,
   "metadata": {},
   "outputs": [],
   "source": [
    "# Change string into value=1\n",
    "data.state=data.state.map({'new':1})"
   ]
  },
  {
   "cell_type": "code",
   "execution_count": 48,
   "metadata": {},
   "outputs": [],
   "source": [
    "# Change string according to its RAM value\n",
    "data.RAM_size=data.RAM_size.map({'32 gb':32, '8 gb':8, '4 gb':4})"
   ]
  },
  {
   "cell_type": "code",
   "execution_count": 49,
   "metadata": {},
   "outputs": [],
   "source": [
    "# Select resolution at the highest range\n",
    "data['resolution_(px)']=data['resolution_(px)'].map({'1366 x 768':1366, '1920 x 1080':1920, \n",
    "                                                     '2560 x 2560':2560})"
   ]
  },
  {
   "cell_type": "code",
   "execution_count": 51,
   "metadata": {},
   "outputs": [],
   "source": [
    "features=['graphic_card_type', 'communications', 'resolution_(px)', 'CPU_cores',\n",
    "       'RAM_size', 'operating_system', 'drive_type', 'input_devices',\n",
    "       'multimedia', 'RAM_type', 'CPU_clock_speed_(GHz)', 'CPU_model', 'state',\n",
    "       'drive_memory_size_(GB)', 'warranty', 'screen_size']\n",
    "target='buynow_price'"
   ]
  },
  {
   "cell_type": "code",
   "execution_count": 52,
   "metadata": {},
   "outputs": [],
   "source": [
    "data.CPU_cores=data.CPU_cores.str.join('').map({'4':4, '2':2, '6':6})"
   ]
  },
  {
   "cell_type": "code",
   "execution_count": 55,
   "metadata": {},
   "outputs": [],
   "source": [
    "# Fill null values - mothod='ffill'\n",
    "data.fillna(method='ffill', inplace = True)"
   ]
  },
  {
   "cell_type": "code",
   "execution_count": 56,
   "metadata": {},
   "outputs": [
    {
     "data": {
      "text/html": [
       "<div>\n",
       "<style scoped>\n",
       "    .dataframe tbody tr th:only-of-type {\n",
       "        vertical-align: middle;\n",
       "    }\n",
       "\n",
       "    .dataframe tbody tr th {\n",
       "        vertical-align: top;\n",
       "    }\n",
       "\n",
       "    .dataframe thead th {\n",
       "        text-align: right;\n",
       "    }\n",
       "</style>\n",
       "<table border=\"1\" class=\"dataframe\">\n",
       "  <thead>\n",
       "    <tr style=\"text-align: right;\">\n",
       "      <th></th>\n",
       "      <th>graphic_card_type</th>\n",
       "      <th>communications</th>\n",
       "      <th>resolution_(px)</th>\n",
       "      <th>CPU_cores</th>\n",
       "      <th>RAM_size</th>\n",
       "      <th>operating_system</th>\n",
       "      <th>drive_type</th>\n",
       "      <th>input_devices</th>\n",
       "      <th>multimedia</th>\n",
       "      <th>RAM_type</th>\n",
       "      <th>CPU_clock_speed_(GHz)</th>\n",
       "      <th>CPU_model</th>\n",
       "      <th>state</th>\n",
       "      <th>drive_memory_size_(GB)</th>\n",
       "      <th>warranty</th>\n",
       "      <th>screen_size</th>\n",
       "      <th>buynow_price</th>\n",
       "    </tr>\n",
       "  </thead>\n",
       "  <tbody>\n",
       "    <tr>\n",
       "      <th>7233</th>\n",
       "      <td>0</td>\n",
       "      <td>1</td>\n",
       "      <td>1920</td>\n",
       "      <td>4</td>\n",
       "      <td>32</td>\n",
       "      <td>0</td>\n",
       "      <td>2</td>\n",
       "      <td>3</td>\n",
       "      <td>2</td>\n",
       "      <td>2</td>\n",
       "      <td>2</td>\n",
       "      <td>2</td>\n",
       "      <td>1</td>\n",
       "      <td>1250</td>\n",
       "      <td>1</td>\n",
       "      <td>17</td>\n",
       "      <td>4999</td>\n",
       "    </tr>\n",
       "    <tr>\n",
       "      <th>5845</th>\n",
       "      <td>0</td>\n",
       "      <td>2</td>\n",
       "      <td>1366</td>\n",
       "      <td>4</td>\n",
       "      <td>8</td>\n",
       "      <td>1</td>\n",
       "      <td>0</td>\n",
       "      <td>2</td>\n",
       "      <td>2</td>\n",
       "      <td>1</td>\n",
       "      <td>2</td>\n",
       "      <td>2</td>\n",
       "      <td>1</td>\n",
       "      <td>256</td>\n",
       "      <td>0</td>\n",
       "      <td>15</td>\n",
       "      <td>2649</td>\n",
       "    </tr>\n",
       "    <tr>\n",
       "      <th>10303</th>\n",
       "      <td>0</td>\n",
       "      <td>3</td>\n",
       "      <td>1920</td>\n",
       "      <td>2</td>\n",
       "      <td>8</td>\n",
       "      <td>1</td>\n",
       "      <td>1</td>\n",
       "      <td>2</td>\n",
       "      <td>0</td>\n",
       "      <td>2</td>\n",
       "      <td>1</td>\n",
       "      <td>2</td>\n",
       "      <td>1</td>\n",
       "      <td>1000</td>\n",
       "      <td>1</td>\n",
       "      <td>15</td>\n",
       "      <td>3399</td>\n",
       "    </tr>\n",
       "    <tr>\n",
       "      <th>10423</th>\n",
       "      <td>0</td>\n",
       "      <td>3</td>\n",
       "      <td>1920</td>\n",
       "      <td>2</td>\n",
       "      <td>8</td>\n",
       "      <td>1</td>\n",
       "      <td>1</td>\n",
       "      <td>2</td>\n",
       "      <td>0</td>\n",
       "      <td>2</td>\n",
       "      <td>1</td>\n",
       "      <td>2</td>\n",
       "      <td>1</td>\n",
       "      <td>1000</td>\n",
       "      <td>1</td>\n",
       "      <td>15</td>\n",
       "      <td>1599</td>\n",
       "    </tr>\n",
       "    <tr>\n",
       "      <th>5897</th>\n",
       "      <td>1</td>\n",
       "      <td>4</td>\n",
       "      <td>1920</td>\n",
       "      <td>4</td>\n",
       "      <td>8</td>\n",
       "      <td>1</td>\n",
       "      <td>0</td>\n",
       "      <td>4</td>\n",
       "      <td>2</td>\n",
       "      <td>2</td>\n",
       "      <td>1</td>\n",
       "      <td>0</td>\n",
       "      <td>1</td>\n",
       "      <td>256</td>\n",
       "      <td>1</td>\n",
       "      <td>12</td>\n",
       "      <td>4499</td>\n",
       "    </tr>\n",
       "    <tr>\n",
       "      <th>...</th>\n",
       "      <td>...</td>\n",
       "      <td>...</td>\n",
       "      <td>...</td>\n",
       "      <td>...</td>\n",
       "      <td>...</td>\n",
       "      <td>...</td>\n",
       "      <td>...</td>\n",
       "      <td>...</td>\n",
       "      <td>...</td>\n",
       "      <td>...</td>\n",
       "      <td>...</td>\n",
       "      <td>...</td>\n",
       "      <td>...</td>\n",
       "      <td>...</td>\n",
       "      <td>...</td>\n",
       "      <td>...</td>\n",
       "      <td>...</td>\n",
       "    </tr>\n",
       "    <tr>\n",
       "      <th>4433</th>\n",
       "      <td>0</td>\n",
       "      <td>2</td>\n",
       "      <td>1366</td>\n",
       "      <td>4</td>\n",
       "      <td>8</td>\n",
       "      <td>0</td>\n",
       "      <td>2</td>\n",
       "      <td>1</td>\n",
       "      <td>2</td>\n",
       "      <td>2</td>\n",
       "      <td>2</td>\n",
       "      <td>2</td>\n",
       "      <td>1</td>\n",
       "      <td>1256</td>\n",
       "      <td>1</td>\n",
       "      <td>15</td>\n",
       "      <td>7936</td>\n",
       "    </tr>\n",
       "    <tr>\n",
       "      <th>9242</th>\n",
       "      <td>0</td>\n",
       "      <td>2</td>\n",
       "      <td>1366</td>\n",
       "      <td>6</td>\n",
       "      <td>8</td>\n",
       "      <td>0</td>\n",
       "      <td>2</td>\n",
       "      <td>1</td>\n",
       "      <td>2</td>\n",
       "      <td>2</td>\n",
       "      <td>2</td>\n",
       "      <td>2</td>\n",
       "      <td>1</td>\n",
       "      <td>1256</td>\n",
       "      <td>0</td>\n",
       "      <td>15</td>\n",
       "      <td>2890</td>\n",
       "    </tr>\n",
       "    <tr>\n",
       "      <th>3982</th>\n",
       "      <td>0</td>\n",
       "      <td>5</td>\n",
       "      <td>1920</td>\n",
       "      <td>2</td>\n",
       "      <td>4</td>\n",
       "      <td>0</td>\n",
       "      <td>0</td>\n",
       "      <td>1</td>\n",
       "      <td>2</td>\n",
       "      <td>2</td>\n",
       "      <td>2</td>\n",
       "      <td>2</td>\n",
       "      <td>1</td>\n",
       "      <td>240</td>\n",
       "      <td>1</td>\n",
       "      <td>15</td>\n",
       "      <td>2716</td>\n",
       "    </tr>\n",
       "    <tr>\n",
       "      <th>9673</th>\n",
       "      <td>0</td>\n",
       "      <td>5</td>\n",
       "      <td>1920</td>\n",
       "      <td>4</td>\n",
       "      <td>4</td>\n",
       "      <td>1</td>\n",
       "      <td>0</td>\n",
       "      <td>4</td>\n",
       "      <td>2</td>\n",
       "      <td>2</td>\n",
       "      <td>2</td>\n",
       "      <td>1</td>\n",
       "      <td>1</td>\n",
       "      <td>480</td>\n",
       "      <td>1</td>\n",
       "      <td>15</td>\n",
       "      <td>4319</td>\n",
       "    </tr>\n",
       "    <tr>\n",
       "      <th>4277</th>\n",
       "      <td>0</td>\n",
       "      <td>5</td>\n",
       "      <td>1920</td>\n",
       "      <td>4</td>\n",
       "      <td>8</td>\n",
       "      <td>1</td>\n",
       "      <td>1</td>\n",
       "      <td>4</td>\n",
       "      <td>2</td>\n",
       "      <td>2</td>\n",
       "      <td>2</td>\n",
       "      <td>2</td>\n",
       "      <td>1</td>\n",
       "      <td>1000</td>\n",
       "      <td>1</td>\n",
       "      <td>15</td>\n",
       "      <td>3919</td>\n",
       "    </tr>\n",
       "  </tbody>\n",
       "</table>\n",
       "<p>7853 rows × 17 columns</p>\n",
       "</div>"
      ],
      "text/plain": [
       "       graphic_card_type  communications  resolution_(px)  CPU_cores  \\\n",
       "7233                   0               1             1920          4   \n",
       "5845                   0               2             1366          4   \n",
       "10303                  0               3             1920          2   \n",
       "10423                  0               3             1920          2   \n",
       "5897                   1               4             1920          4   \n",
       "...                  ...             ...              ...        ...   \n",
       "4433                   0               2             1366          4   \n",
       "9242                   0               2             1366          6   \n",
       "3982                   0               5             1920          2   \n",
       "9673                   0               5             1920          4   \n",
       "4277                   0               5             1920          4   \n",
       "\n",
       "       RAM_size  operating_system  drive_type  input_devices  multimedia  \\\n",
       "7233         32                 0           2              3           2   \n",
       "5845          8                 1           0              2           2   \n",
       "10303         8                 1           1              2           0   \n",
       "10423         8                 1           1              2           0   \n",
       "5897          8                 1           0              4           2   \n",
       "...         ...               ...         ...            ...         ...   \n",
       "4433          8                 0           2              1           2   \n",
       "9242          8                 0           2              1           2   \n",
       "3982          4                 0           0              1           2   \n",
       "9673          4                 1           0              4           2   \n",
       "4277          8                 1           1              4           2   \n",
       "\n",
       "       RAM_type  CPU_clock_speed_(GHz)  CPU_model  state  \\\n",
       "7233          2                      2          2      1   \n",
       "5845          1                      2          2      1   \n",
       "10303         2                      1          2      1   \n",
       "10423         2                      1          2      1   \n",
       "5897          2                      1          0      1   \n",
       "...         ...                    ...        ...    ...   \n",
       "4433          2                      2          2      1   \n",
       "9242          2                      2          2      1   \n",
       "3982          2                      2          2      1   \n",
       "9673          2                      2          1      1   \n",
       "4277          2                      2          2      1   \n",
       "\n",
       "       drive_memory_size_(GB)  warranty  screen_size  buynow_price  \n",
       "7233                     1250         1           17          4999  \n",
       "5845                      256         0           15          2649  \n",
       "10303                    1000         1           15          3399  \n",
       "10423                    1000         1           15          1599  \n",
       "5897                      256         1           12          4499  \n",
       "...                       ...       ...          ...           ...  \n",
       "4433                     1256         1           15          7936  \n",
       "9242                     1256         0           15          2890  \n",
       "3982                      240         1           15          2716  \n",
       "9673                      480         1           15          4319  \n",
       "4277                     1000         1           15          3919  \n",
       "\n",
       "[7853 rows x 17 columns]"
      ]
     },
     "execution_count": 56,
     "metadata": {},
     "output_type": "execute_result"
    }
   ],
   "source": [
    "data.astype('int')"
   ]
  },
  {
   "cell_type": "code",
   "execution_count": 57,
   "metadata": {},
   "outputs": [],
   "source": [
    "train=data.loc[train_indices]\n",
    "test=data.loc[test_indices]\n",
    "val = data.loc[val_indices]"
   ]
  },
  {
   "cell_type": "code",
   "execution_count": 58,
   "metadata": {},
   "outputs": [],
   "source": [
    "X_train,X_test,X_val= train[features], test[features],val[features]\n",
    "y_train, y_test, y_val = train[target], test[target], val[target]"
   ]
  },
  {
   "cell_type": "code",
   "execution_count": 59,
   "metadata": {},
   "outputs": [
    {
     "data": {
      "text/plain": [
       "(4711,)"
      ]
     },
     "execution_count": 59,
     "metadata": {},
     "output_type": "execute_result"
    }
   ],
   "source": [
    "y_train.shape"
   ]
  },
  {
   "cell_type": "code",
   "execution_count": 60,
   "metadata": {},
   "outputs": [],
   "source": [
    "# Dependencies\n",
    "from sklearn.ensemble import RandomForestRegressor\n",
    "from sklearn.ensemble import GradientBoostingRegressor\n",
    "from sklearn.ensemble import ExtraTreesRegressor\n",
    "from sklearn.ensemble import VotingRegressor\n",
    "from sklearn.linear_model import LinearRegression\n",
    "from sklearn.tree import DecisionTreeRegressor\n",
    "from sklearn.neural_network import MLPRegressor\n",
    "\n",
    "from sklearn.preprocessing import StandardScaler, MaxAbsScaler\n",
    "from sklearn.metrics import mean_squared_error\n",
    "from sklearn.pipeline import make_pipeline\n",
    "import matplotlib.pyplot as plt\n",
    "import seaborn as sns"
   ]
  },
  {
   "cell_type": "code",
   "execution_count": 61,
   "metadata": {},
   "outputs": [],
   "source": [
    "def rmse(y_true, y_pred):\n",
    "    return mean_squared_error(y_true, y_pred, squared=False)"
   ]
  },
  {
   "cell_type": "code",
   "execution_count": 63,
   "metadata": {},
   "outputs": [
    {
     "name": "stdout",
     "output_type": "stream",
     "text": [
      "Linear : 1221.5620032950997\n",
      "MLP : 1335.5729271897083\n",
      "Decision Tree : 1265.961890134541\n",
      "Random Forest : 1016.1714286019289\n",
      "Extra Trees : 1059.1243438799202\n"
     ]
    },
    {
     "data": {
      "image/png": "[encoded data removed]",
      "text/plain": [
       "<Figure size 432x288 with 1 Axes>"
      ]
     },
     "metadata": {
      "needs_background": "light"
     },
     "output_type": "display_data"
    },
    {
     "data": {
      "image/png": "[encoded data removed]",
      "text/plain": [
       "<Figure size 432x288 with 1 Axes>"
      ]
     },
     "metadata": {
      "needs_background": "light"
     },
     "output_type": "display_data"
    },
    {
     "data": {
      "image/png": "[encoded data removed]",
      "text/plain": [
       "<Figure size 432x288 with 1 Axes>"
      ]
     },
     "metadata": {
      "needs_background": "light"
     },
     "output_type": "display_data"
    },
    {
     "data": {
      "image/png": "[encoded data removed]",
      "text/plain": [
       "<Figure size 432x288 with 1 Axes>"
      ]
     },
     "metadata": {
      "needs_background": "light"
     },
     "output_type": "display_data"
    },
    {
     "data": {
      "image/png": "[encoded data removed]",
      "text/plain": [
       "<Figure size 432x288 with 1 Axes>"
      ]
     },
     "metadata": {
      "needs_background": "light"
     },
     "output_type": "display_data"
    }
   ],
   "source": [
    "def make_models(model_name, model):\n",
    "    pipe = make_pipeline(MaxAbsScaler(), model).fit(X_train, y_train)\n",
    "    predicted = pipe.predict(X_test)\n",
    "    rmse_val = rmse(y_test, predicted)\n",
    "    print(model_name, ':', rmse_val)\n",
    "    pred_df[model_name+'Pred']=predicted\n",
    "    plt.figure(model_name)\n",
    "    plt.title(model_name)\n",
    "    plt.xlabel('predicted')\n",
    "    plt.ylabel('actual')\n",
    "    sns.regplot(y=y_test, x=predicted)\n",
    "    \n",
    "models = {'Linear' : LinearRegression(),\n",
    "    'MLP': MLPRegressor(random_state=42, max_iter=500, learning_rate=\"constant\", learning_rate_init=0.6),\n",
    "    'Decision Tree': DecisionTreeRegressor(max_depth=15, random_state=42),\n",
    "    'Random Forest': RandomForestRegressor(random_state=42),\n",
    "#     'Gradient Boosting': GradientBoostingRegressor(random_state=42, criterion='squared_error',\n",
    "#                                                   loss='squared_error',learning_rate=0.6, warm_start=True),\n",
    "    'Extra Trees': ExtraTreesRegressor(n_estimators=100, random_state=42)}\n",
    "\n",
    "pred_df = pd.DataFrame(columns =[\"Actual\"])\n",
    "pred_df[\"Actual\"] = y_test\n",
    "\n",
    "for key in models.keys():\n",
    "    make_models(key, models[key])"
   ]
  },
  {
   "cell_type": "code",
   "execution_count": 64,
   "metadata": {},
   "outputs": [
    {
     "data": {
      "text/html": [
       "<div>\n",
       "<style scoped>\n",
       "    .dataframe tbody tr th:only-of-type {\n",
       "        vertical-align: middle;\n",
       "    }\n",
       "\n",
       "    .dataframe tbody tr th {\n",
       "        vertical-align: top;\n",
       "    }\n",
       "\n",
       "    .dataframe thead th {\n",
       "        text-align: right;\n",
       "    }\n",
       "</style>\n",
       "<table border=\"1\" class=\"dataframe\">\n",
       "  <thead>\n",
       "    <tr style=\"text-align: right;\">\n",
       "      <th></th>\n",
       "      <th>Actual</th>\n",
       "      <th>LinearPred</th>\n",
       "      <th>MLPPred</th>\n",
       "      <th>Decision TreePred</th>\n",
       "      <th>Random ForestPred</th>\n",
       "      <th>Extra TreesPred</th>\n",
       "    </tr>\n",
       "  </thead>\n",
       "  <tbody>\n",
       "    <tr>\n",
       "      <th>5124</th>\n",
       "      <td>2369.0</td>\n",
       "      <td>3159.965266</td>\n",
       "      <td>3214.463324</td>\n",
       "      <td>2343.428571</td>\n",
       "      <td>2324.570000</td>\n",
       "      <td>2283.170000</td>\n",
       "    </tr>\n",
       "    <tr>\n",
       "      <th>9595</th>\n",
       "      <td>2299.0</td>\n",
       "      <td>2758.460318</td>\n",
       "      <td>2995.766115</td>\n",
       "      <td>2415.250000</td>\n",
       "      <td>2346.900000</td>\n",
       "      <td>2299.000000</td>\n",
       "    </tr>\n",
       "    <tr>\n",
       "      <th>4926</th>\n",
       "      <td>5999.0</td>\n",
       "      <td>4979.141315</td>\n",
       "      <td>5183.013460</td>\n",
       "      <td>4524.000000</td>\n",
       "      <td>4910.162857</td>\n",
       "      <td>4830.000000</td>\n",
       "    </tr>\n",
       "    <tr>\n",
       "      <th>2607</th>\n",
       "      <td>3399.0</td>\n",
       "      <td>3153.554880</td>\n",
       "      <td>3752.694693</td>\n",
       "      <td>3199.000000</td>\n",
       "      <td>3799.372367</td>\n",
       "      <td>3754.026900</td>\n",
       "    </tr>\n",
       "    <tr>\n",
       "      <th>1185</th>\n",
       "      <td>1299.0</td>\n",
       "      <td>1583.896128</td>\n",
       "      <td>1648.233231</td>\n",
       "      <td>1464.898305</td>\n",
       "      <td>1292.553571</td>\n",
       "      <td>1274.000000</td>\n",
       "    </tr>\n",
       "    <tr>\n",
       "      <th>...</th>\n",
       "      <td>...</td>\n",
       "      <td>...</td>\n",
       "      <td>...</td>\n",
       "      <td>...</td>\n",
       "      <td>...</td>\n",
       "      <td>...</td>\n",
       "    </tr>\n",
       "    <tr>\n",
       "      <th>4741</th>\n",
       "      <td>5589.0</td>\n",
       "      <td>5287.553799</td>\n",
       "      <td>5703.104492</td>\n",
       "      <td>5596.231000</td>\n",
       "      <td>5628.822606</td>\n",
       "      <td>5653.750000</td>\n",
       "    </tr>\n",
       "    <tr>\n",
       "      <th>10057</th>\n",
       "      <td>5399.0</td>\n",
       "      <td>5522.098262</td>\n",
       "      <td>7747.078581</td>\n",
       "      <td>9450.000000</td>\n",
       "      <td>7109.053007</td>\n",
       "      <td>8021.610600</td>\n",
       "    </tr>\n",
       "    <tr>\n",
       "      <th>6980</th>\n",
       "      <td>8678.0</td>\n",
       "      <td>6419.598170</td>\n",
       "      <td>6403.516379</td>\n",
       "      <td>5255.666667</td>\n",
       "      <td>5273.645916</td>\n",
       "      <td>5255.666667</td>\n",
       "    </tr>\n",
       "    <tr>\n",
       "      <th>4480</th>\n",
       "      <td>4722.0</td>\n",
       "      <td>4733.452718</td>\n",
       "      <td>4831.506532</td>\n",
       "      <td>6159.000000</td>\n",
       "      <td>5769.284215</td>\n",
       "      <td>5463.719905</td>\n",
       "    </tr>\n",
       "    <tr>\n",
       "      <th>1371</th>\n",
       "      <td>1499.0</td>\n",
       "      <td>2497.444173</td>\n",
       "      <td>2516.646223</td>\n",
       "      <td>1599.000000</td>\n",
       "      <td>1684.441837</td>\n",
       "      <td>1599.110040</td>\n",
       "    </tr>\n",
       "  </tbody>\n",
       "</table>\n",
       "<p>1571 rows × 6 columns</p>\n",
       "</div>"
      ],
      "text/plain": [
       "       Actual   LinearPred      MLPPred  Decision TreePred  Random ForestPred  \\\n",
       "5124   2369.0  3159.965266  3214.463324        2343.428571        2324.570000   \n",
       "9595   2299.0  2758.460318  2995.766115        2415.250000        2346.900000   \n",
       "4926   5999.0  4979.141315  5183.013460        4524.000000        4910.162857   \n",
       "2607   3399.0  3153.554880  3752.694693        3199.000000        3799.372367   \n",
       "1185   1299.0  1583.896128  1648.233231        1464.898305        1292.553571   \n",
       "...       ...          ...          ...                ...                ...   \n",
       "4741   5589.0  5287.553799  5703.104492        5596.231000        5628.822606   \n",
       "10057  5399.0  5522.098262  7747.078581        9450.000000        7109.053007   \n",
       "6980   8678.0  6419.598170  6403.516379        5255.666667        5273.645916   \n",
       "4480   4722.0  4733.452718  4831.506532        6159.000000        5769.284215   \n",
       "1371   1499.0  2497.444173  2516.646223        1599.000000        1684.441837   \n",
       "\n",
       "       Extra TreesPred  \n",
       "5124       2283.170000  \n",
       "9595       2299.000000  \n",
       "4926       4830.000000  \n",
       "2607       3754.026900  \n",
       "1185       1274.000000  \n",
       "...                ...  \n",
       "4741       5653.750000  \n",
       "10057      8021.610600  \n",
       "6980       5255.666667  \n",
       "4480       5463.719905  \n",
       "1371       1599.110040  \n",
       "\n",
       "[1571 rows x 6 columns]"
      ]
     },
     "execution_count": 64,
     "metadata": {},
     "output_type": "execute_result"
    }
   ],
   "source": [
    "pred_df"
   ]
  },
  {
   "cell_type": "code",
   "execution_count": null,
   "metadata": {},
   "outputs": [],
   "source": []
  }
 ],
 "metadata": {
  "kernelspec": {
   "display_name": "Python 3",
   "language": "python",
   "name": "python3"
  },
  "language_info": {
   "codemirror_mode": {
    "name": "ipython",
    "version": 3
   },
   "file_extension": ".py",
   "mimetype": "text/x-python",
   "name": "python",
   "nbconvert_exporter": "python",
   "pygments_lexer": "ipython3",
   "version": "3.8.5"
  }
 },
 "nbformat": 4,
 "nbformat_minor": 4
}
